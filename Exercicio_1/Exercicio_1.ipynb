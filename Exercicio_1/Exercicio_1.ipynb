{
 "cells": [
  {
   "cell_type": "code",
   "execution_count": 1,
   "metadata": {},
   "outputs": [],
   "source": [
    "from google.cloud import bigquery\n",
    "from IPython.utils import io\n",
    "from pathlib import Path\n",
    "\n",
    "with io.capture_output() as captured:\n",
    "    client = bigquery.Client()\n"
   ]
  },
  {
   "cell_type": "code",
   "execution_count": 2,
   "metadata": {},
   "outputs": [
    {
     "name": "stdout",
     "output_type": "stream",
     "text": [
      "|    | reaction       |   occurrence_count |\n",
      "|---:|:---------------|-------------------:|\n",
      "|  0 | OVARIAN CANCER |              33266 |\n"
     ]
    }
   ],
   "source": [
    "\"\"\"\n",
    "Exercício 1 - Tarefa_2 - Item_1\n",
    "\n",
    "Qual o tipo de reação mais reportado na tabela? Lembre-se que uma linha pode ter\n",
    "mais de uma reação separada por “;”.\n",
    "\"\"\"\n",
    "\n",
    "query_path = Path(\".\") / \"Tarefa_2/Item_1/item1.sql\"\n",
    "with open(query_path, \"r\") as fd:\n",
    "    query = fd.read()\n",
    "    query_job = client.query(query)\n",
    "    results = query_job.result()\n",
    "    print(results.to_dataframe().to_markdown())\n"
   ]
  },
  {
   "cell_type": "code",
   "execution_count": 3,
   "metadata": {},
   "outputs": [
    {
     "name": "stdout",
     "output_type": "stream",
     "text": [
      "|    | reaction   | products_industry_name   |   occurrence_count |\n",
      "|---:|:-----------|:-------------------------|-------------------:|\n",
      "|  0 | DEATH      | Cosmetics                |              18632 |\n"
     ]
    }
   ],
   "source": [
    "\"\"\"\n",
    "Exercício 1 - Tarefa_2 - Item_2\n",
    "\n",
    "Qual o nome da indústria que tem mais mortes reportadas?\n",
    "\"\"\"\n",
    "\n",
    "query_path = Path(\".\") / \"Tarefa_2/Item_2/item2.sql\"\n",
    "with open(query_path, \"r\") as fd:\n",
    "    query = fd.read()\n",
    "    query_job = client.query(query)\n",
    "    results = query_job.result()\n",
    "    print(results.to_dataframe().to_markdown())\n"
   ]
  },
  {
   "cell_type": "code",
   "execution_count": 4,
   "metadata": {},
   "outputs": [
    {
     "name": "stdout",
     "output_type": "stream",
     "text": [
      "|    | reaction       | products_industry_name   |   occurrence_count |\n",
      "|---:|:---------------|:-------------------------|-------------------:|\n",
      "|  0 | ALOPECIA       | Cosmetics                |                482 |\n",
      "|  1 | OVARIAN CANCER | Cosmetics                |                357 |\n",
      "|  2 | PRURITUS       | Cosmetics                |                272 |\n"
     ]
    }
   ],
   "source": [
    "\"\"\"\n",
    "Exercício 1 - Tarefa_2 - Item_3\n",
    "\n",
    "Quais as 3 principais reações adversas de pessoas entre 18-25 anos na indústria de\n",
    "cosméticos?\n",
    "\"\"\"\n",
    "\n",
    "query_path = Path(\".\") / \"Tarefa_2/Item_3/item3.sql\"\n",
    "with open(query_path, \"r\") as fd:\n",
    "    query = fd.read()\n",
    "    query_job = client.query(query)\n",
    "    results = query_job.result()\n",
    "    print(results.to_dataframe().to_markdown())\n"
   ]
  }
 ],
 "metadata": {
  "kernelspec": {
   "display_name": "greenpeace",
   "language": "python",
   "name": "python3"
  },
  "language_info": {
   "codemirror_mode": {
    "name": "ipython",
    "version": 3
   },
   "file_extension": ".py",
   "mimetype": "text/x-python",
   "name": "python",
   "nbconvert_exporter": "python",
   "pygments_lexer": "ipython3",
   "version": "3.10.4"
  },
  "orig_nbformat": 4
 },
 "nbformat": 4,
 "nbformat_minor": 2
}
