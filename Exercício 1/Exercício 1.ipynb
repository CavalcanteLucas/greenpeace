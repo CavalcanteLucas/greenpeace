{
 "cells": [
  {
   "cell_type": "code",
   "execution_count": 5,
   "metadata": {},
   "outputs": [
    {
     "name": "stderr",
     "output_type": "stream",
     "text": [
      "/home/beta/.pyenv/versions/3.10.4/envs/greenpeace/lib/python3.10/site-packages/google/auth/_default.py:78: UserWarning: Your application has authenticated using end user credentials from Google Cloud SDK without a quota project. You might receive a \"quota exceeded\" or \"API not enabled\" error. See the following page for troubleshooting: https://cloud.google.com/docs/authentication/adc-troubleshooting/user-creds. \n",
      "  warnings.warn(_CLOUD_SDK_CREDENTIALS_WARNING)\n",
      "/home/beta/.pyenv/versions/3.10.4/envs/greenpeace/lib/python3.10/site-packages/google/auth/_default.py:78: UserWarning: Your application has authenticated using end user credentials from Google Cloud SDK without a quota project. You might receive a \"quota exceeded\" or \"API not enabled\" error. See the following page for troubleshooting: https://cloud.google.com/docs/authentication/adc-troubleshooting/user-creds. \n",
      "  warnings.warn(_CLOUD_SDK_CREDENTIALS_WARNING)\n"
     ]
    }
   ],
   "source": [
    "from pathlib import Path\n",
    "from google.cloud import bigquery\n",
    "\n",
    "client = bigquery.Client()\n"
   ]
  },
  {
   "cell_type": "code",
   "execution_count": 7,
   "metadata": {},
   "outputs": [
    {
     "name": "stdout",
     "output_type": "stream",
     "text": [
      "         reaction  occurrence_count\n",
      "0  OVARIAN CANCER             33266\n"
     ]
    }
   ],
   "source": [
    "\"\"\"\n",
    "Exercício 1 - Questão 2 - Item 1\n",
    "\n",
    "Qual o tipo de reação mais reportado na tabela? Lembre-se que uma linha pode ter\n",
    "mais de uma reação separada por “;”.\n",
    "\"\"\"\n",
    "\n",
    "query_path = Path(\".\") / \"Questão 2/Item 1/item1.sql\"\n",
    "with open(query_path, \"r\") as fd:\n",
    "    query = fd.read()\n",
    "    query_job = client.query(query)\n",
    "    results = query_job.result()\n",
    "    print(results.to_dataframe().to_string())\n"
   ]
  },
  {
   "cell_type": "code",
   "execution_count": 11,
   "metadata": {},
   "outputs": [
    {
     "name": "stdout",
     "output_type": "stream",
     "text": [
      "  reaction products_industry_name  occurrence_count\n",
      "0    DEATH              Cosmetics             18632\n"
     ]
    }
   ],
   "source": [
    "\"\"\"\n",
    "Exercício 1 - Questão 2 - Item 2\n",
    "\n",
    "Qual o nome da indústria que tem mais mortes reportadas?\n",
    "\"\"\"\n",
    "\n",
    "query_path = Path(\".\") / \"Questão 2/Item 2/item2.sql\"\n",
    "with open(query_path, \"r\") as fd:\n",
    "    query = fd.read()\n",
    "    query_job = client.query(query)\n",
    "    results = query_job.result()\n",
    "    print(results.to_dataframe().to_string())\n"
   ]
  },
  {
   "cell_type": "code",
   "execution_count": 12,
   "metadata": {},
   "outputs": [
    {
     "name": "stdout",
     "output_type": "stream",
     "text": [
      "         reaction products_industry_name  occurrence_count\n",
      "0        ALOPECIA              Cosmetics               482\n",
      "1  OVARIAN CANCER              Cosmetics               357\n",
      "2        PRURITUS              Cosmetics               272\n"
     ]
    }
   ],
   "source": [
    "\"\"\"\n",
    "Exercício 1 - Questão 2 - Item 3\n",
    "\n",
    "Quais as 3 principais reações adversas de pessoas entre 18-25 anos na indústria de\n",
    "cosméticos?\n",
    "\"\"\"\n",
    "\n",
    "query_path = Path(\".\") / \"Questão 2/Item 3/item3.sql\"\n",
    "with open(query_path, \"r\") as fd:\n",
    "    query = fd.read()\n",
    "    query_job = client.query(query)\n",
    "    results = query_job.result()\n",
    "    print(results.to_dataframe().to_string())\n"
   ]
  }
 ],
 "metadata": {
  "kernelspec": {
   "display_name": "greenpeace",
   "language": "python",
   "name": "python3"
  },
  "language_info": {
   "codemirror_mode": {
    "name": "ipython",
    "version": 3
   },
   "file_extension": ".py",
   "mimetype": "text/x-python",
   "name": "python",
   "nbconvert_exporter": "python",
   "pygments_lexer": "ipython3",
   "version": "3.10.4"
  },
  "orig_nbformat": 4
 },
 "nbformat": 4,
 "nbformat_minor": 2
}
